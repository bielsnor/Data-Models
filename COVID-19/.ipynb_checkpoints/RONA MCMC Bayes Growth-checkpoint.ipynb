{
 "cells": [
  {
   "cell_type": "markdown",
   "metadata": {
    "papermill": {
     "duration": 0.013029,
     "end_time": "2020-03-30T20:10:08.824894",
     "exception": false,
     "start_time": "2020-03-30T20:10:08.811865",
     "status": "completed"
    },
    "tags": []
   },
   "source": [
    "# COVID-19 Growth Rate Prediction\n",
    "> Predictions of COVID-19 Growth Rates Using Bayesian Modeling\n",
    "- permalink: http://futureproof.nyc/futureproof/COVID19_bayes_model\n",
    "#This is a Jupyter Notebook that requires: numpy, matplotlib, pandas, seaborn, arviz, pymc3, and altair. It may take some time to run depending on computational resources. "
   ]
  },
  {
   "cell_type": "markdown",
   "metadata": {
    "papermill": {
     "duration": 0.966495,
     "end_time": "2020-03-30T20:43:08.955633",
     "exception": false,
     "start_time": "2020-03-30T20:43:07.989138",
     "status": "completed"
    },
    "tags": []
   },
   "source": [
    "## Analysis Overview\n",
    "\n",
    "The model that we are building assumes exponential growth. This is only applicable to the initial stages of a pandemic outbreak once growth slows the accuracy of the model will deteriorate to statistical insignificance. However, in the early stages of an outbreak it can provide an accurate scale and trajectory.[^1]\n",
    "\n",
    "We assume a [negative binomial](https://docs.pymc.io/api/distributions/discrete.html#pymc3.distributions.discrete.NegativeBinomial) likelihood as we are dealing with count data. The model is hierarchical, pooling information at the country level.\n",
    "\n",
    "\n",
    "[^1]:  This notebook gets up-to-date data from the [\"2019 Novel Coronavirus COVID-19 (2019-nCoV) Data Repository by Johns Hopkins CSSE\"](https://systems.jhu.edu/research/public-health/ncov/) [GitHub repository](https://github.com/CSSEGISandData/COVID-19). Portions of the model code is provided under the [BSD-3 License](https://github.com/twiecki/covid19/blob/master/LICENSE). \n",
    "\n"
   ]
  },
  {
   "cell_type": "markdown",
   "metadata": {
    "papermill": {
     "duration": 0.009593,
     "end_time": "2020-03-30T20:10:08.844834",
     "exception": false,
     "start_time": "2020-03-30T20:10:08.835241",
     "status": "completed"
    },
    "tags": []
   },
   "source": [
    "> Note: This dashboard contains the results of a predictive model. The model is assuming an exponential growth rate in the initial stages of the COVID19 pandemic. Data is changing hourly therefore the accuracy of the model is variable.  This is for informational purposes only."
   ]
  },
  {
   "cell_type": "code",
   "execution_count": null,
   "metadata": {
    "papermill": {
     "duration": 0.019424,
     "end_time": "2020-03-30T20:10:08.873891",
     "exception": false,
     "start_time": "2020-03-30T20:10:08.854467",
     "status": "completed"
    },
    "tags": []
   },
   "outputs": [],
   "source": [
    "#hide\n",
    "from pathlib import Path\n",
    "\n",
    "## Loading data with Python file, will load from URL if not present\n",
    "loadpy = Path('load_covid_data.py')\n",
    "if not loadpy.exists():\n",
    "    ! wget https://raw.githubusercontent.com/rygomez/Data-Models/master/COVID-19/load_covid_data.py"
   ]
  },
  {
   "cell_type": "code",
   "execution_count": null,
   "metadata": {
    "papermill": {
     "duration": 2.370449,
     "end_time": "2020-03-30T20:10:11.254062",
     "exception": false,
     "start_time": "2020-03-30T20:10:08.883613",
     "status": "completed"
    },
    "tags": []
   },
   "outputs": [],
   "source": [
    "#hide\n",
    "%matplotlib inline\n",
    "import numpy as np\n",
    "from IPython.display import display, Markdown\n",
    "import matplotlib.pyplot as plt\n",
    "import matplotlib\n",
    "import pandas as pd\n",
    "import seaborn as sns\n",
    "import arviz as az\n",
    "import pymc3 as pm\n",
    "import altair as alt\n",
    "import load_covid_data\n",
    "\n",
    "sns.set_context('talk')\n",
    "plt.style.use('seaborn-dark')\n",
    "\n",
    "## Set this to true to see legacy charts\n",
    "debug=True"
   ]
  },
  {
   "cell_type": "code",
   "execution_count": null,
   "metadata": {
    "papermill": {
     "duration": 1.837508,
     "end_time": "2020-03-30T20:10:13.122081",
     "exception": false,
     "start_time": "2020-03-30T20:10:11.284573",
     "status": "completed"
    },
    "tags": []
   },
   "outputs": [],
   "source": [
    "#hide\n",
    "\n",
    "df = load_covid_data.load_data(drop_states=True, filter_n_days_100=2)\n",
    "# We only have data for China after they already had a significant number of cases.\n",
    "# They also are not well modeled by the exponential, so we drop them here for simplicity.\n",
    "df = df.loc[lambda x: x.country != 'China (total)']\n",
    "\n",
    "countries = df.country.unique()\n",
    "n_countries = len(countries)\n",
    "df = df.loc[lambda x: (x.days_since_100 >= 0)]\n",
    "\n",
    "annotate_kwargs = dict(\n",
    "    s='Based on COVID Data Repository by Johns Hopkins CSSE ({})\\n'.format(df.index.max().strftime('%B %d, %Y')), \n",
    "    xy=(0.05, 0.01), xycoords='figure fraction', fontsize=10)"
   ]
  },
  {
   "cell_type": "code",
   "execution_count": null,
   "metadata": {
    "papermill": {
     "duration": 0.024713,
     "end_time": "2020-03-30T20:10:13.178206",
     "exception": false,
     "start_time": "2020-03-30T20:10:13.153493",
     "status": "completed"
    },
    "scrolled": true,
    "tags": []
   },
   "outputs": [],
   "source": [
    "#hide_input\n",
    "',   '.join(sorted(df.country.unique().tolist()))"
   ]
  },
  {
   "cell_type": "code",
   "execution_count": null,
   "metadata": {
    "papermill": {
     "duration": 91.157709,
     "end_time": "2020-03-30T20:11:44.346914",
     "exception": false,
     "start_time": "2020-03-30T20:10:13.189205",
     "status": "completed"
    },
    "tags": []
   },
   "outputs": [],
   "source": [
    "#hide\n",
    "\n",
    "#####################################\n",
    "##### This Cell Runs The Model ######\n",
    "#####################################\n",
    "\n",
    "with pm.Model() as model:\n",
    "    ############\n",
    "    # Intercept\n",
    "    # Group mean\n",
    "    a_grp = pm.Normal('a_grp', 100, 50)\n",
    "    # Group variance\n",
    "    a_grp_sigma = pm.HalfNormal('a_grp_sigma', 50)\n",
    "    # Individual intercepts\n",
    "    a_ind = pm.Normal('a_ind', \n",
    "                      mu=a_grp, sigma=a_grp_sigma, \n",
    "                      shape=n_countries)\n",
    "    ########\n",
    "    # Slope\n",
    "    # Group mean\n",
    "    b_grp = pm.Normal('b_grp', 1.33, .5)\n",
    "    # Group variance\n",
    "    b_grp_sigma = pm.HalfNormal('b_grp_sigma', .5)\n",
    "    # Individual slopes\n",
    "    b_ind = pm.Normal('b_ind', \n",
    "                      mu=b_grp, sigma=b_grp_sigma, \n",
    "                      shape=n_countries)\n",
    "    \n",
    "    # Error\n",
    "    sigma = pm.HalfNormal('sigma', 500., shape=n_countries)\n",
    "    \n",
    "    # Create likelihood for each country\n",
    "    for i, country in enumerate(countries):\n",
    "        df_country = df.loc[lambda x: (x.country == country)]\n",
    "        \n",
    "        # By using pm.Data we can change these values after sampling.\n",
    "        # This allows us to extend x into the future so we can get\n",
    "        # forecasts by sampling from the posterior predictive\n",
    "        x = pm.Data(country + \"x_data\", \n",
    "                    df_country.days_since_100.values)\n",
    "        confirmed = pm.Data(country + \"y_data\", \n",
    "                            df_country.confirmed.astype('float64').values)\n",
    "        \n",
    "        # Likelihood\n",
    "        pm.NegativeBinomial(\n",
    "            country, \n",
    "            (a_ind[i] * b_ind[i] ** x), # Exponential regression\n",
    "            sigma[i], \n",
    "            observed=confirmed)"
   ]
  },
  {
   "cell_type": "code",
   "execution_count": null,
   "metadata": {
    "papermill": {
     "duration": 1807.901298,
     "end_time": "2020-03-30T20:41:52.259411",
     "exception": false,
     "start_time": "2020-03-30T20:11:44.358113",
     "status": "completed"
    },
    "tags": []
   },
   "outputs": [],
   "source": [
    "#hide\n",
    "with model:\n",
    "    # Sample posterior\n",
    "    trace = pm.sample(tune=1500, chains=1, cores=2, target_accept=.9)\n",
    "    \n",
    "    # Update data so that we get predictions into the future\n",
    "    for country in countries:\n",
    "        df_country = df.loc[lambda x: (x.country == country)]\n",
    "        x_data = np.arange(0, 30)\n",
    "        y_data = np.array([np.nan] * len(x_data))\n",
    "        pm.set_data({country + \"x_data\": x_data})\n",
    "        pm.set_data({country + \"y_data\": y_data})\n",
    "    \n",
    "    # Sample posterior predictive - this is the heavy lift\n",
    "    post_pred = pm.sample_posterior_predictive(trace, samples=80)"
   ]
  },
  {
   "cell_type": "markdown",
   "metadata": {
    "papermill": {
     "duration": 0.55499,
     "end_time": "2020-03-30T20:41:53.371364",
     "exception": false,
     "start_time": "2020-03-30T20:41:52.816374",
     "status": "completed"
    },
    "tags": []
   },
   "source": [
    "## Predicted Cases By Country\n",
    "\n",
    "Select a country from the drop down list below to toggle  the visualization. "
   ]
  },
  {
   "cell_type": "code",
   "execution_count": null,
   "metadata": {
    "papermill": {
     "duration": 1.145784,
     "end_time": "2020-03-30T20:41:55.087346",
     "exception": false,
     "start_time": "2020-03-30T20:41:53.941562",
     "status": "completed"
    },
    "scrolled": true,
    "tags": []
   },
   "outputs": [],
   "source": [
    "#hide\n",
    "\n",
    "##############################################\n",
    "#### Pre processing of Data For Altair Viz ###\n",
    "##############################################\n",
    "\n",
    "# Flatten predictions & target for each country into a pandas DataFrame\n",
    "prediction_dfs_list = []\n",
    "\n",
    "for country in post_pred:\n",
    "    arr = post_pred[country]\n",
    "    preds = arr.flatten().tolist() # get predictions in a flattened array\n",
    "    pred_idx = np.indices(arr.shape)[0].flatten().tolist() # prediction for model (there are many per country, thes are the grey lines)\n",
    "    days_since = np.indices(arr.shape)[1].flatten().tolist() # days since 100 cases\n",
    "    pred_df = pd.DataFrame({'country': country, \n",
    "                            'predictions': preds, \n",
    "                            'pred_idx': pred_idx,\n",
    "                            'days_since_100': days_since}\n",
    "                          )\n",
    "    prediction_dfs_list.append(pred_df)\n",
    "\n",
    "predictionsDF = pd.concat(prediction_dfs_list)\n",
    "\n",
    "\n",
    "# Compute the maximum value to plot on the y-axis as 15x the last confirmed case\n",
    "ylims = pd.DataFrame(df.groupby('country').last().confirmed * 15).reset_index()\n",
    "ylims.columns = ['country', 'ylim']\n",
    "\n",
    "\n",
    "# Filter out any predictions exceed the y-axis limit\n",
    "predictionsDF_filtered = (predictionsDF.merge(ylims, on='country', how='left')\n",
    "                         .loc[lambda x: x.predictions <= x.ylim])\n",
    "\n",
    "\n",
    "# Compute a 33% daily growth rate (dashed line) as a reference for visualizations\n",
    "first_case_count = df.groupby('country').first().confirmed.reset_index()\n",
    "date_anchor = predictionsDF_filtered[['country', 'days_since_100']].drop_duplicates()\n",
    "max_pred = predictionsDF_filtered.groupby('country').max()[['predictions']].reset_index()\n",
    "benchmark = (date_anchor\n",
    "             .merge(first_case_count, on='country', how='left')\n",
    "             .merge(max_pred, on='country', how='left')\n",
    "            )\n",
    "benchmark['benchmark'] = benchmark.apply(lambda x: x.confirmed * (1.3**(x.days_since_100)),\n",
    "                                         axis=1)\n",
    "benchmarkDF_filtered = benchmark.loc[lambda x: x.benchmark <= x.predictions]\n",
    "\n",
    "\n",
    "# Compute the last known total confirmed case, which is the black dot at the end of the red line in the viz\n",
    "lastpointDF = df.groupby('country').last().reset_index()\n",
    "\n",
    "\n",
    "# DataFrame of Chart Titles by country.  This a enables a hack to allow Altiar to switch values\n",
    "titleDF = lastpointDF[['country']]\n",
    "titleDF['title'] = titleDF.apply(lambda x: x.country + ': Actual vs. Predicted Growth',\n",
    "                             axis=1)"
   ]
  },
  {
   "cell_type": "code",
   "execution_count": null,
   "metadata": {
    "papermill": {
     "duration": 6.47361,
     "end_time": "2020-03-30T20:42:02.126580",
     "exception": false,
     "start_time": "2020-03-30T20:41:55.652970",
     "status": "completed"
    },
    "scrolled": false,
    "tags": []
   },
   "outputs": [],
   "source": [
    "#hide_input\n",
    "\n",
    "##################################\n",
    "#### Construct The Altair Viz ####\n",
    "##################################\n",
    "\n",
    "alt.data_transformers.disable_max_rows()\n",
    "\n",
    "selectCountry = alt.selection_single(\n",
    "    name='Select',\n",
    "    fields=['country'],\n",
    "    init={'country': 'US'},\n",
    "    bind=alt.binding_select(options=sorted(countries.tolist()))\n",
    ")\n",
    "\n",
    "##### Model Predictions (Grey) #####\n",
    "width = 275\n",
    "height= 250\n",
    "\n",
    "pred = (alt.Chart(predictionsDF_filtered)\n",
    "        .mark_line(opacity=.15)\n",
    "        .encode(x=alt.X('days_since_100:Q', axis=alt.Axis(title='Days since 100th confirmed case')),\n",
    "                y=alt.Y('predictions:Q', \n",
    "                        axis=alt.Axis(title='Confirmed cases')),\n",
    "                color=alt.Color('pred_idx:Q', legend=None, scale=None),)\n",
    "        .transform_filter(selectCountry)\n",
    "       ).properties(\n",
    "    width=width,\n",
    "    height=height\n",
    ")  \n",
    "\n",
    "predlog = (alt.Chart(predictionsDF_filtered)\n",
    "        .mark_line(opacity=.15)\n",
    "        .encode(x=alt.X('days_since_100:Q', axis=alt.Axis(title='Days since 100th confirmed case')),\n",
    "                y=alt.Y('predictions:Q', \n",
    "                        axis=alt.Axis(title=None),\n",
    "                        scale=alt.Scale(type='log', base=10)),\n",
    "                color=alt.Color('pred_idx:Q', legend=None, scale=None),)\n",
    "        .transform_filter(selectCountry)\n",
    "        ).properties(\n",
    "    width=width,\n",
    "    height=height\n",
    ")   \n",
    "\n",
    "##### Mark The Last Case Count #####\n",
    "\n",
    "# Point\n",
    "\n",
    "last_point = (alt.Chart(lastpointDF)\n",
    "              .mark_circle(color=\"black\", size=40)\n",
    "              .encode(x='days_since_100:Q',\n",
    "                      y='confirmed:Q')\n",
    "              .transform_filter(selectCountry)\n",
    "             )\n",
    "\n",
    "# Label\n",
    "last_point_label = (alt.Chart(lastpointDF)\n",
    "                    .mark_text(align='right', dx=-10, dy=-15, fontSize=15)\n",
    "                    .encode(x='days_since_100:Q',\n",
    "                            y='confirmed:Q',\n",
    "                            text='confirmed')\n",
    "                    .transform_filter(selectCountry)\n",
    "                   )\n",
    "\n",
    "##### Place 133% Dotted Line Reference On Graph #####\n",
    "guide = (alt.Chart(benchmarkDF_filtered)\n",
    "        .mark_line(color='black', opacity=.5, strokeDash=[3,3])\n",
    "        .encode(x='days_since_100:Q',\n",
    "                y='benchmark:Q',\n",
    "                )\n",
    "        .transform_filter(selectCountry)\n",
    "        )\n",
    "\n",
    "\n",
    "##### Dynamic Chart Title\n",
    "\n",
    "\n",
    "title_main = alt.Chart(titleDF).mark_text(dy=-15, dx=325, size=20).encode(\n",
    "    text='title:N'\n",
    "    ).transform_filter(selectCountry)\n",
    "\n",
    "\n",
    "title_linear = (alt.Chart(alt.Data(values=[{'title': 'Y axis is on a linear scale'}]))\n",
    "                .mark_text(dy=-150, size=15)\n",
    "                .encode(text='title:N')\n",
    "               )\n",
    "title_log = (alt.Chart(alt.Data(values=[{'title': 'Y axis is on a log scale'}]))\n",
    "                .mark_text(dy=-150, size=15)\n",
    "                .encode(text='title:N')\n",
    "               )\n",
    "\n",
    "###### Legend (Loading from URL)\n",
    "source = pd.DataFrame.from_records([{\"img\": \"http://futureproof.nyc/futureproof/sites/default/files/2020-03/covid-bayes-growth-legend.png\"}])\n",
    "legend = (alt.Chart(source)\n",
    "          .mark_image(dy=-150,\n",
    "                      width=200,\n",
    "                      height=150)\n",
    "          .encode(url='img')\n",
    "         )\n",
    "\n",
    "##### Actual Cases (Red) #####\n",
    "actual = (alt.Chart(df).mark_line(color=\"red\")\n",
    "          .encode(x='days_since_100:Q',\n",
    "                  y='confirmed:Q')\n",
    "          .transform_filter(selectCountry)\n",
    "         )\n",
    "\n",
    "annotations = last_point + last_point_label + guide + actual\n",
    "linear_chart = pred.add_selection(selectCountry) + annotations + title_linear\n",
    "log_chart = predlog + annotations + title_log + title_log\n",
    "\n",
    "##### Layer All Charts Together And Configure Formatting #####\n",
    "(\n",
    "((title_main + legend) & ( linear_chart | log_chart ))\n",
    ".configure_title(fontSize=20)\n",
    ".configure_axis(labelFontSize=15,titleFontSize=18, grid=False)\n",
    ")"
   ]
  },
  {
   "cell_type": "markdown",
   "metadata": {
    "papermill": {
     "duration": 0.972139,
     "end_time": "2020-03-30T20:42:04.293496",
     "exception": false,
     "start_time": "2020-03-30T20:42:03.321357",
     "status": "completed"
    },
    "tags": []
   },
   "source": [
    "## Growth Rate Predictions"
   ]
  },
  {
   "cell_type": "code",
   "execution_count": null,
   "metadata": {
    "papermill": {
     "duration": 1.748973,
     "end_time": "2020-03-30T20:42:06.995401",
     "exception": false,
     "start_time": "2020-03-30T20:42:05.246428",
     "status": "completed"
    },
    "tags": []
   },
   "outputs": [],
   "source": [
    "#hide_input\n",
    "\n",
    "large_engl_countries = ['US', 'Canada (total)', 'Australia (total)']\n",
    "european_countries = ['Italy', 'Germany', 'France (total)', 'Spain', 'United Kingdom (total)', \n",
    "                      'Iran']\n",
    "asian_countries = ['Singapore', 'Japan', 'Korea, South', 'Hong Kong']\n",
    "south_american_countries = ['Argentina', 'Brazil', 'Colombia', 'Chile']\n",
    "\n",
    "country_groups = [european_countries, large_engl_countries, asian_countries]\n",
    "line_styles = ['-', ':', '--', '-.']\n",
    "\n",
    "\n",
    "fig, axs = plt.subplots(nrows=len(country_groups), figsize=(8, 16), sharex=True)\n",
    "\n",
    "for ax, country_group in zip(axs, country_groups):\n",
    "    for i, country in enumerate(countries):\n",
    "        if country in country_group:\n",
    "            sns.distplot((trace['b_ind'][:, i] * 100) - 100, ax=ax, label=country, hist=False)\n",
    "        \n",
    "    ax.axvline(33, ls='--', color='k', label='33% daily growth')\n",
    "    ax.legend()\n",
    "ax.set_xlabel('Daily growth in %')\n",
    "plt.suptitle('Posterior of daily growth')"
   ]
  },
  {
   "cell_type": "markdown",
   "metadata": {
    "papermill": {
     "duration": 0.965941,
     "end_time": "2020-03-30T20:42:08.895214",
     "exception": false,
     "start_time": "2020-03-30T20:42:07.929273",
     "status": "completed"
    },
    "tags": []
   },
   "source": [
    "## Model Diagnostics - Trace Plots\n",
    "\n",
    "The following trace plots help to assess the convergence of the MCMC sampler.  "
   ]
  },
  {
   "cell_type": "code",
   "execution_count": null,
   "metadata": {
    "papermill": {
     "duration": 57.166651,
     "end_time": "2020-03-30T20:43:07.032601",
     "exception": false,
     "start_time": "2020-03-30T20:42:09.865950",
     "status": "completed"
    },
    "tags": []
   },
   "outputs": [],
   "source": [
    "#hide_input\n",
    "az.plot_trace(trace, compact=True);"
   ]
  }
 ],
 "metadata": {
  "kernelspec": {
   "display_name": "Python 3",
   "language": "python",
   "name": "python3"
  },
  "language_info": {
   "codemirror_mode": {
    "name": "ipython",
    "version": 3
   },
   "file_extension": ".py",
   "mimetype": "text/x-python",
   "name": "python",
   "nbconvert_exporter": "python",
   "pygments_lexer": "ipython3",
   "version": "3.7.6"
  },
  "papermill": {
   "duration": 1981.97571,
   "end_time": "2020-03-30T20:43:09.928375",
   "environment_variables": {},
   "exception": null,
   "input_path": "2020-03-16-covid19_growth_bayes.ipynb",
   "output_path": "2020-03-16-covid19_growth_bayes.ipynb",
   "parameters": {},
   "start_time": "2020-03-30T20:10:07.952665",
   "version": "2.0.0"
  }
 },
 "nbformat": 4,
 "nbformat_minor": 2
}
